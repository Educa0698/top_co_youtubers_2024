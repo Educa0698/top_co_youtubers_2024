{
 "cells": [
  {
   "cell_type": "code",
   "execution_count": null,
   "id": "71b78bc5",
   "metadata": {},
   "outputs": [],
   "source": [
    "import os\n",
    "import pandas as pd\n",
    "from dotenv import load_dotenv\n",
    "from googleapiclient.discovery import build\n",
    "\n",
    "load_dotenv() \n",
    "\n",
    "API_KEY = os.getenv(\"YOUTUBE_API_KEY\")\n",
    "API_VERSION = 'v3'\n",
    "youtube = build('youtube', API_VERSION, developerKey=API_KEY)"
   ]
  },
  {
   "cell_type": "code",
   "execution_count": null,
   "id": "57b8fe0b",
   "metadata": {},
   "outputs": [],
   "source": [
    "def get_channel_stats(youtube, channel_id):\n",
    "    request = youtube.channels().list(\n",
    "        part='snippet, statistics',\n",
    "        id=channel_id\n",
    "    )\n",
    "    response = request.execute()\n",
    "\n",
    "    if response['items']:\n",
    "\n",
    "        data = dict(channel_name=response['items'][0]['snippet']['title'],\n",
    "                    total_subscribers=response['items'][0]['statistics']['subscriberCount'],\n",
    "                    total_views=response['items'][0]['statistics']['viewCount'],\n",
    "                    total_videos=response['items'][0]['statistics']['videoCount'],\n",
    "        )\n",
    "\n",
    "        return data\n",
    "    else:\n",
    "        return None "
   ]
  },
  {
   "cell_type": "code",
   "execution_count": null,
   "id": "467307f8",
   "metadata": {},
   "outputs": [],
   "source": [
    "# Read CSV into dataframe \n",
    "df = pd.read_excel(\"youtube_data_colombia.xlsx\")\n",
    "df.head()"
   ]
  },
  {
   "cell_type": "code",
   "execution_count": null,
   "id": "4646c9fb",
   "metadata": {},
   "outputs": [],
   "source": [
    "# Extract channel IDs and remove potential duplicates\n",
    "channel_ids = df['NAME'].str.split('@').str[-1].unique()\n",
    "channel_ids"
   ]
  },
  {
   "cell_type": "code",
   "execution_count": null,
   "id": "9f4d6cfa",
   "metadata": {},
   "outputs": [],
   "source": [
    "# Inicializar una lista para almacenar las estadísticas de los canales\n",
    "channel_stats = []\n",
    "\n",
    "# Iterar sobre los ID de canales y obtener estadísticas para cada uno\n",
    "for channel_id in channel_ids:\n",
    "    try:\n",
    "        # Intentar obtener las estadísticas del canal\n",
    "        stats = get_channel_stats(youtube, channel_id)\n",
    "        \n",
    "        # Si las estadísticas son válidas, agregar a la lista\n",
    "        if stats is not None:\n",
    "            channel_stats.append(stats)\n",
    "        else:\n",
    "            # Si las estadísticas son None, agregar un valor por defecto\n",
    "            channel_stats.append({\n",
    "                'channel_name': 'Unknown',\n",
    "                'total_subscribers': 0,\n",
    "                'total_views': 0,\n",
    "                'total_videos': 0\n",
    "            })\n",
    "    \n",
    "    except KeyError as e:\n",
    "        # Manejar el error si falta la clave 'items' en la respuesta\n",
    "        print(f\"Error con el ID {channel_id}: No se encontró la clave 'items'. {e}\")\n",
    "        # Agregar un valor por defecto en caso de error\n",
    "        channel_stats.append({\n",
    "            'channel_name': 'Unknown',\n",
    "            'total_subscribers': 0,\n",
    "            'total_views': 0,\n",
    "            'total_videos': 0\n",
    "        })\n",
    "    \n",
    "    except Exception as e:\n",
    "        # Capturar otros errores generales\n",
    "        print(f\"Error con el ID {channel_id}: {e}\")\n",
    "        # Agregar un valor por defecto en caso de error\n",
    "        channel_stats.append({\n",
    "            'channel_name': 'Unknown',\n",
    "            'total_subscribers': 0,\n",
    "            'total_views': 0,\n",
    "            'total_videos': 0\n",
    "        })\n"
   ]
  },
  {
   "cell_type": "code",
   "execution_count": null,
   "id": "6fb8a34d",
   "metadata": {},
   "outputs": [],
   "source": [
    "# Convert the list of stats to a df\n",
    "stats_df = pd.DataFrame(channel_stats)"
   ]
  },
  {
   "cell_type": "code",
   "execution_count": null,
   "id": "45839e1f",
   "metadata": {},
   "outputs": [],
   "source": [
    "df.reset_index(drop=True, inplace=True)\n",
    "stats_df.reset_index(drop=True, inplace=True)\n",
    "\n",
    "\n",
    "# Concatenate the dataframes horizontally\n",
    "combined_df = pd.concat([df, stats_df], axis=1)"
   ]
  },
  {
   "cell_type": "code",
   "execution_count": null,
   "id": "58d6506d",
   "metadata": {},
   "outputs": [],
   "source": [
    "# Drop the 'channel_name' column from stats_df (since 'NOMBRE' already exists)\n",
    "# combined_df.drop('channel_name', axis=1, inplace=True)\n",
    "\n",
    "\n",
    "# Save the merged dataframe back into a CSV file\n",
    "combined_df.to_csv('updated_youtube_data_co.csv', index=False)\n",
    "\n",
    "\n",
    "combined_df.head(10)"
   ]
  }
 ],
 "metadata": {
  "kernelspec": {
   "display_name": "Python 3 (ipykernel)",
   "language": "python",
   "name": "python3"
  },
  "language_info": {
   "codemirror_mode": {
    "name": "ipython",
    "version": 3
   },
   "file_extension": ".py",
   "mimetype": "text/x-python",
   "name": "python",
   "nbconvert_exporter": "python",
   "pygments_lexer": "ipython3",
   "version": "3.9.13"
  }
 },
 "nbformat": 4,
 "nbformat_minor": 5
}
